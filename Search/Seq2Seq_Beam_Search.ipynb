{
 "cells": [
  {
   "cell_type": "code",
   "execution_count": 1,
   "metadata": {
    "collapsed": true
   },
   "outputs": [],
   "source": [
    "import numpy as np\n",
    "import random\n",
    "\n",
    "vocab = {\n",
    "    0: '早安你好',\n",
    "    1: '我覺得今天天氣不錯',\n",
    "    2: '有事嗎',\n",
    "    3: '我覺得你心情不錯',\n",
    "    4: '晚安',\n",
    "    5: 'BOS',\n",
    "    6: 'EOS'\n",
    "}\n",
    "reverse_vocab = dict([(v,k) for k,v in vocab.items()]) #轉為dict\n",
    "vocab_size = len(vocab.items())\n"
   ]
  },
  {
   "cell_type": "code",
   "execution_count": 2,
   "metadata": {},
   "outputs": [
    {
     "data": {
      "text/plain": [
       "{'BOS': 5,\n",
       " 'EOS': 6,\n",
       " '我覺得今天天氣不錯': 1,\n",
       " '我覺得你心情不錯': 3,\n",
       " '早安你好': 0,\n",
       " '晚安': 4,\n",
       " '有事嗎': 2}"
      ]
     },
     "execution_count": 2,
     "metadata": {},
     "output_type": "execute_result"
    }
   ],
   "source": [
    "reverse_vocab"
   ]
  },
  {
   "cell_type": "code",
   "execution_count": 3,
   "metadata": {
    "collapsed": true
   },
   "outputs": [],
   "source": [
    "def softmax(x):\n",
    "    e_x = np.exp(x - np.max(x))\n",
    "    return e_x / e_x.sum()\n",
    "\n",
    "def reduce_mul(l): \n",
    "    out = 1.0\n",
    "    for x in l:\n",
    "        out *= x\n",
    "    return out\n",
    "\n",
    "def check_all_done(seqs):\n",
    "    for seq in seqs:\n",
    "        if not seq[-1]:\n",
    "            return False\n",
    "    return True"
   ]
  },
  {
   "cell_type": "code",
   "execution_count": 4,
   "metadata": {
    "collapsed": true
   },
   "outputs": [],
   "source": [
    "def decode_step(encoder_context, input_seq):    \n",
    "    #encoder_context包含encoder，ouput_step包含文字的機率\n",
    "    words_prob = [random.random() for _ in range(vocab_size)]\n",
    "    words_prob[reverse_vocab['BOS']] = 0.0 #將開始的符號的機率設為0\n",
    "    words_prob = softmax(words_prob) #將數值轉非負的exp，並進行標準化\n",
    "    ouput_step = [(idx,prob) for idx,prob in enumerate(words_prob)] #建立index     \n",
    "    ouput_step = sorted(ouput_step, key=lambda x: x[1], reverse=True) #降幕排序descending，越排越低\n",
    "    return ouput_step\n",
    "\n",
    "#seq: [[word,word],[word,word],[word,word]]\n",
    "#output: [[word,word,word],[word,word,word],[word,word,word]]"
   ]
  },
  {
   "cell_type": "code",
   "execution_count": 5,
   "metadata": {
    "collapsed": true
   },
   "outputs": [],
   "source": [
    "def beam_search_step(encoder_context, top_seqs, k):       \n",
    "    all_seqs = []\n",
    "    for seq in top_seqs:\n",
    "        seq_score = reduce_mul([_score for _,_score in seq]) #將分數數值都乘以1.0\n",
    "        if seq[-1][0] == reverse_vocab['EOS']:\n",
    "            all_seqs.append((seq, seq_score, True))\n",
    "            continue\n",
    "        #獲得這個階段的資料\n",
    "        current_step = decode_step(encoder_context, seq)\n",
    "        for i,word in enumerate(current_step):    \n",
    "            if i >= k:\n",
    "                break\n",
    "            word_index = word[0]\n",
    "            word_score = word[1]   \n",
    "            score = seq_score * word_score\n",
    "            rs_seq = seq + [word]\n",
    "            done = (word_index == reverse_vocab['EOS'])            \n",
    "            all_seqs.append((rs_seq, score, done))            \n",
    "    all_seqs = sorted(all_seqs, key = lambda seq: seq[1], reverse=True)        \n",
    "    topk_seqs = [seq for seq,_,_ in all_seqs[:k]]\n",
    "    all_done = check_all_done(topk_seqs)\n",
    "    return topk_seqs, all_done"
   ]
  },
  {
   "cell_type": "code",
   "execution_count": 6,
   "metadata": {
    "collapsed": true
   },
   "outputs": [],
   "source": [
    "def beam_search(encoder_context):\n",
    "    beam_size = 3 #不超過輸入seq長度\n",
    "    max_len = 10 #不超過seq長度\n",
    "    #開始\n",
    "    top_seqs = [[(reverse_vocab['BOS'],1.0)]]\n",
    "    #迴圈\n",
    "    for _ in range(max_len):        \n",
    "        top_seqs, all_done = beam_search_step(encoder_context, top_seqs, beam_size)\n",
    "        if all_done:            \n",
    "            break        \n",
    "    return top_seqs"
   ]
  },
  {
   "cell_type": "code",
   "execution_count": 7,
   "metadata": {},
   "outputs": [
    {
     "name": "stdout",
     "output_type": "stream",
     "text": [
      "Path[0]: \n",
      "word_index 4\n",
      "word_prob 0.1701881067161776\n",
      "晚安(0.1702)\n",
      "\n",
      "\n",
      "Path[1]: \n",
      "word_index 3\n",
      "word_prob 0.1697865960377839\n",
      "我覺得你心情不錯(0.1698)\n",
      "\n",
      "\n",
      "Path[2]: \n",
      "word_index 1\n",
      "word_prob 0.1510122269450021\n",
      "我覺得今天天氣不錯(0.1510)\n",
      "\n",
      "\n"
     ]
    }
   ],
   "source": [
    "if __name__ == '__main__':\n",
    "    encoder_context = None\n",
    "    top_seqs = beam_search(encoder_context)\n",
    "    for i,seq in enumerate(top_seqs): \n",
    "        print (('Path[%d]: ') % (i))\n",
    "        for word in seq[1:]:\n",
    "            word_index = word[0]\n",
    "            print(\"word_index\",word_index)\n",
    "            word_prob = word[1]\n",
    "            print(\"word_prob\",word_prob)\n",
    "            print (('%s(%.4f)') % (vocab[word_index], word_prob),)\n",
    "            if word_index == reverse_vocab['EOS']:\n",
    "                break\n",
    "        print ('\\n')\n",
    "\n"
   ]
  },
  {
   "cell_type": "code",
   "execution_count": 9,
   "metadata": {
    "collapsed": true
   },
   "outputs": [],
   "source": [
    "top_seqs = beam_search(encoder_context)"
   ]
  },
  {
   "cell_type": "code",
   "execution_count": 62,
   "metadata": {},
   "outputs": [
    {
     "name": "stdout",
     "output_type": "stream",
     "text": [
      "Path[0]: \n",
      "Path[1]: \n",
      "Path[2]: \n",
      "Path[3]: \n"
     ]
    }
   ],
   "source": [
    "beam_search(encoder_context)\n",
    "for i,seq in enumerate(top_seqs):\n",
    "    print (('Path[%d]: ') % (i))"
   ]
  },
  {
   "cell_type": "code",
   "execution_count": 57,
   "metadata": {},
   "outputs": [
    {
     "name": "stdout",
     "output_type": "stream",
     "text": [
      "top_seqs [[(5, 1.0), (4, 0.21519921648542806)], [(5, 1.0), (3, 0.1666729881798719)], [(5, 1.0), (0, 0.1376148844031451)]]\n",
      "=================\n",
      "all_done True\n",
      "top_seqs [[(5, 1.0), (4, 0.21519921648542806), (1, 0.1901838032221608)], [(5, 1.0), (4, 0.21519921648542806), (6, 0.1729106676268892)], [(5, 1.0), (4, 0.21519921648542806), (0, 0.16900314835737126)]]\n",
      "=================\n",
      "all_done True\n",
      "top_seqs [[(5, 1.0), (4, 0.21519921648542806), (6, 0.1729106676268892)], [(5, 1.0), (4, 0.21519921648542806), (1, 0.1901838032221608), (4, 0.23599408608406133)], [(5, 1.0), (4, 0.21519921648542806), (0, 0.16900314835737126), (1, 0.23124380016713914)]]\n",
      "=================\n",
      "all_done True\n",
      "top_seqs [[(5, 1.0), (4, 0.21519921648542806), (6, 0.1729106676268892)], [(5, 1.0), (4, 0.21519921648542806), (1, 0.1901838032221608), (4, 0.23599408608406133), (6, 0.25984466702242376)], [(5, 1.0), (4, 0.21519921648542806), (1, 0.1901838032221608), (4, 0.23599408608406133), (1, 0.15859631018242)]]\n",
      "=================\n",
      "all_done True\n",
      "top_seqs [[(5, 1.0), (4, 0.21519921648542806), (6, 0.1729106676268892)], [(5, 1.0), (4, 0.21519921648542806), (1, 0.1901838032221608), (4, 0.23599408608406133), (6, 0.25984466702242376)], [(5, 1.0), (4, 0.21519921648542806), (1, 0.1901838032221608), (4, 0.23599408608406133), (1, 0.15859631018242), (3, 0.17822006530366086)]]\n",
      "=================\n",
      "all_done True\n",
      "top_seqs [[(5, 1.0), (4, 0.21519921648542806), (6, 0.1729106676268892)], [(5, 1.0), (4, 0.21519921648542806), (1, 0.1901838032221608), (4, 0.23599408608406133), (6, 0.25984466702242376)], [(5, 1.0), (4, 0.21519921648542806), (1, 0.1901838032221608), (4, 0.23599408608406133), (1, 0.15859631018242), (3, 0.17822006530366086), (3, 0.23756962766061956)]]\n",
      "=================\n",
      "all_done True\n",
      "top_seqs [[(5, 1.0), (4, 0.21519921648542806), (6, 0.1729106676268892)], [(5, 1.0), (4, 0.21519921648542806), (1, 0.1901838032221608), (4, 0.23599408608406133), (6, 0.25984466702242376)], [(5, 1.0), (4, 0.21519921648542806), (1, 0.1901838032221608), (4, 0.23599408608406133), (1, 0.15859631018242), (3, 0.17822006530366086), (3, 0.23756962766061956), (4, 0.22447802728307292)]]\n",
      "=================\n",
      "all_done True\n",
      "top_seqs [[(5, 1.0), (4, 0.21519921648542806), (6, 0.1729106676268892)], [(5, 1.0), (4, 0.21519921648542806), (1, 0.1901838032221608), (4, 0.23599408608406133), (6, 0.25984466702242376)], [(5, 1.0), (4, 0.21519921648542806), (1, 0.1901838032221608), (4, 0.23599408608406133), (1, 0.15859631018242), (3, 0.17822006530366086), (3, 0.23756962766061956), (4, 0.22447802728307292), (0, 0.19786151134323915)]]\n",
      "=================\n",
      "all_done True\n",
      "top_seqs [[(5, 1.0), (4, 0.21519921648542806), (6, 0.1729106676268892)], [(5, 1.0), (4, 0.21519921648542806), (1, 0.1901838032221608), (4, 0.23599408608406133), (6, 0.25984466702242376)], [(5, 1.0), (4, 0.21519921648542806), (1, 0.1901838032221608), (4, 0.23599408608406133), (1, 0.15859631018242), (3, 0.17822006530366086), (3, 0.23756962766061956), (4, 0.22447802728307292), (0, 0.19786151134323915), (6, 0.22036843036980888)]]\n",
      "=================\n",
      "all_done True\n",
      "top_seqs [[(5, 1.0), (4, 0.21519921648542806), (6, 0.1729106676268892)], [(5, 1.0), (4, 0.21519921648542806), (1, 0.1901838032221608), (4, 0.23599408608406133), (6, 0.25984466702242376)], [(5, 1.0), (4, 0.21519921648542806), (1, 0.1901838032221608), (4, 0.23599408608406133), (1, 0.15859631018242), (3, 0.17822006530366086), (3, 0.23756962766061956), (4, 0.22447802728307292), (0, 0.19786151134323915), (6, 0.22036843036980888)]]\n",
      "=================\n",
      "all_done True\n"
     ]
    }
   ],
   "source": [
    "beam_size = 3\n",
    "max_len = 10\n",
    "    #開始\n",
    "top_seqs = [[(reverse_vocab['BOS'],1.0)]]\n",
    "    #迴圈\n",
    "for _ in range(max_len):        \n",
    "    top_seqs, all_done = beam_search_step(encoder_context, top_seqs, beam_size) \n",
    "    print(\"top_seqs\",top_seqs)\n",
    "    print(\"=================\")\n",
    "    print(\"all_done\",all_done)"
   ]
  },
  {
   "cell_type": "code",
   "execution_count": 89,
   "metadata": {},
   "outputs": [
    {
     "name": "stdout",
     "output_type": "stream",
     "text": [
      "None\n"
     ]
    }
   ],
   "source": []
  },
  {
   "cell_type": "code",
   "execution_count": null,
   "metadata": {
    "collapsed": true
   },
   "outputs": [],
   "source": []
  }
 ],
 "metadata": {
  "kernelspec": {
   "display_name": "Python 3",
   "language": "python",
   "name": "python3"
  },
  "language_info": {
   "codemirror_mode": {
    "name": "ipython",
    "version": 3
   },
   "file_extension": ".py",
   "mimetype": "text/x-python",
   "name": "python",
   "nbconvert_exporter": "python",
   "pygments_lexer": "ipython3",
   "version": "3.6.3"
  }
 },
 "nbformat": 4,
 "nbformat_minor": 2
}
