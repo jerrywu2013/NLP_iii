{
 "cells": [
  {
   "cell_type": "code",
   "execution_count": 5,
   "metadata": {
    "collapsed": true
   },
   "outputs": [],
   "source": [
    "import numpy as np\n",
    "import random\n",
    "\n",
    "vocab = {\n",
    "    0: '早安你好',\n",
    "    1: '我覺得今天天氣不錯',\n",
    "    2: '有事嗎',\n",
    "    3: '我覺得你心情不錯',\n",
    "    4: '晚安',\n",
    "    5: 'BOS',\n",
    "    6: 'EOS'\n",
    "}\n",
    "reverse_vocab = dict([(v,k) for k,v in vocab.items()]) #轉為dict\n",
    "vocab_size = len(vocab.items())\n"
   ]
  },
  {
   "cell_type": "code",
   "execution_count": 6,
   "metadata": {},
   "outputs": [
    {
     "data": {
      "text/plain": [
       "{'BOS': 5,\n",
       " 'EOS': 6,\n",
       " '我覺得今天天氣不錯': 1,\n",
       " '我覺得你心情不錯': 3,\n",
       " '早安你好': 0,\n",
       " '晚安': 4,\n",
       " '有事嗎': 2}"
      ]
     },
     "execution_count": 6,
     "metadata": {},
     "output_type": "execute_result"
    }
   ],
   "source": [
    "reverse_vocab"
   ]
  },
  {
   "cell_type": "code",
   "execution_count": 22,
   "metadata": {
    "collapsed": true
   },
   "outputs": [],
   "source": [
    "def softmax(x):\n",
    "    e_x = np.exp(x - np.max(x))\n",
    "    return e_x / e_x.sum()\n",
    "\n",
    "def reduce_mul(l): \n",
    "    out = 1.0\n",
    "    for x in l:\n",
    "        out *= x\n",
    "    return out\n",
    "\n",
    "def check_all_done(seqs):\n",
    "    for seq in seqs:\n",
    "        if not seq[-1]:\n",
    "            return False\n",
    "    return True"
   ]
  },
  {
   "cell_type": "code",
   "execution_count": 23,
   "metadata": {},
   "outputs": [
    {
     "ename": "NameError",
     "evalue": "name 'words_prob' is not defined",
     "output_type": "error",
     "traceback": [
      "\u001b[0;31m---------------------------------------------------------------------------\u001b[0m",
      "\u001b[0;31mNameError\u001b[0m                                 Traceback (most recent call last)",
      "\u001b[0;32m<ipython-input-23-f04218a63273>\u001b[0m in \u001b[0;36m<module>\u001b[0;34m()\u001b[0m\n\u001b[0;32m----> 1\u001b[0;31m \u001b[0msoftmax\u001b[0m\u001b[0;34m(\u001b[0m\u001b[0mwords_prob\u001b[0m\u001b[0;34m)\u001b[0m\u001b[0;34m\u001b[0m\u001b[0m\n\u001b[0m",
      "\u001b[0;31mNameError\u001b[0m: name 'words_prob' is not defined"
     ]
    }
   ],
   "source": [
    "softmax(words_prob)"
   ]
  },
  {
   "cell_type": "code",
   "execution_count": 9,
   "metadata": {
    "collapsed": true
   },
   "outputs": [],
   "source": [
    "def decode_step(encoder_context, input_seq):    \n",
    "    #encoder_context包含encoder，ouput_step包含文字的機率\n",
    "    words_prob = [random.random() for _ in range(vocab_size)]\n",
    "    words_prob[reverse_vocab['BOS']] = 0.0 #將開始的符號的機率設為0\n",
    "    words_prob = softmax(words_prob) #將數值轉非負的exp，並進行標準化\n",
    "    ouput_step = [(idx,prob) for idx,prob in enumerate(words_prob)] #建立index     \n",
    "    ouput_step = sorted(ouput_step, key=lambda x: x[1], reverse=True) #降幕排序descending，越排越低\n",
    "    return ouput_step\n",
    "\n",
    "#seq: [[word,word],[word,word],[word,word]]\n",
    "#output: [[word,word,word],[word,word,word],[word,word,word]]"
   ]
  },
  {
   "cell_type": "code",
   "execution_count": 19,
   "metadata": {
    "collapsed": true
   },
   "outputs": [],
   "source": [
    "def beam_search_step(encoder_context, top_seqs, k):       \n",
    "    all_seqs = []\n",
    "    for seq in top_seqs:\n",
    "        seq_score = reduce_mul([_score for _,_score in seq])\n",
    "        print('seq_score',seq_score)\n",
    "        if seq[-1][0] == reverse_vocab['EOS']:\n",
    "            all_seqs.append((seq, seq_score, True))\n",
    "            continue\n",
    "        #獲得這個階段的資料\n",
    "        current_step = decode_step(encoder_context, seq)\n",
    "        for i,word in enumerate(current_step):    \n",
    "            if i >= k:\n",
    "                break\n",
    "            word_index = word[0]\n",
    "            word_score = word[1]   \n",
    "            score = seq_score * word_score\n",
    "            rs_seq = seq + [word]\n",
    "            done = (word_index == reverse_vocab['EOS'])            \n",
    "            all_seqs.append((rs_seq, score, done))            \n",
    "    all_seqs = sorted(all_seqs, key = lambda seq: seq[1], reverse=True)        \n",
    "    topk_seqs = [seq for seq,_,_ in all_seqs[:k]]\n",
    "    all_done = check_all_done(topk_seqs)\n",
    "    return topk_seqs, all_done"
   ]
  },
  {
   "cell_type": "code",
   "execution_count": 20,
   "metadata": {
    "collapsed": true
   },
   "outputs": [],
   "source": [
    "def beam_search(encoder_context):\n",
    "    beam_size = 3\n",
    "    max_len = 10\n",
    "    #開始\n",
    "    top_seqs = [[(reverse_vocab['BOS'],1.0)]]\n",
    "    #迴圈\n",
    "    for _ in range(max_len):        \n",
    "        top_seqs, all_done = beam_search_step(encoder_context, top_seqs, beam_size)\n",
    "        if all_done:            \n",
    "            break        \n",
    "    return top_seqs"
   ]
  },
  {
   "cell_type": "code",
   "execution_count": 21,
   "metadata": {},
   "outputs": [
    {
     "name": "stdout",
     "output_type": "stream",
     "text": [
      "seq_score 1.0\n",
      "Path[0]: \n",
      "早安你好(0.2022)\n",
      "\n",
      "\n",
      "Path[1]: \n",
      "EOS(0.1945)\n",
      "\n",
      "\n",
      "Path[2]: \n",
      "我覺得你心情不錯(0.1787)\n",
      "\n",
      "\n"
     ]
    }
   ],
   "source": [
    "if __name__ == '__main__':\n",
    "    encoder_context = None\n",
    "    top_seqs = beam_search(encoder_context)\n",
    "    for i,seq in enumerate(top_seqs):\n",
    "        print (('Path[%d]: ') % (i))\n",
    "        for word in seq[1:]:\n",
    "            word_index = word[0]\n",
    "            word_prob = word[1]\n",
    "            print (('%s(%.4f)') % (vocab[word_index], word_prob),)\n",
    "            if word_index == reverse_vocab['EOS']:\n",
    "                break\n",
    "        print ('\\n')\n",
    "\n"
   ]
  },
  {
   "cell_type": "code",
   "execution_count": null,
   "metadata": {
    "collapsed": true
   },
   "outputs": [],
   "source": []
  }
 ],
 "metadata": {
  "kernelspec": {
   "display_name": "Python 3",
   "language": "python",
   "name": "python3"
  },
  "language_info": {
   "codemirror_mode": {
    "name": "ipython",
    "version": 3
   },
   "file_extension": ".py",
   "mimetype": "text/x-python",
   "name": "python",
   "nbconvert_exporter": "python",
   "pygments_lexer": "ipython3",
   "version": "3.6.3"
  }
 },
 "nbformat": 4,
 "nbformat_minor": 2
}
