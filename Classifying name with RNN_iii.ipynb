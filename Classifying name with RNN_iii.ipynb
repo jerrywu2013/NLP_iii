{
 "cells": [
  {
   "cell_type": "code",
   "execution_count": 1,
   "metadata": {},
   "outputs": [
    {
     "name": "stdout",
     "output_type": "stream",
     "text": [
      "['data/names/Arabic.txt', 'data/names/Chinese.txt', 'data/names/Czech.txt', 'data/names/Dutch.txt', 'data/names/English.txt', 'data/names/French.txt', 'data/names/German.txt', 'data/names/Greek.txt', 'data/names/Irish.txt', 'data/names/Italian.txt', 'data/names/Japanese.txt', 'data/names/Korean.txt', 'data/names/Polish.txt', 'data/names/Portuguese.txt', 'data/names/Russian.txt', 'data/names/Scottish.txt', 'data/names/Spanish.txt', 'data/names/Vietnamese.txt']\n"
     ]
    }
   ],
   "source": [
    "from __future__ import unicode_literals, print_function, division\n",
    "from io import open #匯入資料\n",
    "import glob #檔案路徑的設定，可以用於*的擴展\n",
    "\n",
    "def findFiles(path): \n",
    "    return glob.glob(path)\n",
    "\n",
    "print(findFiles('data/names/*.txt'))\n",
    "\n",
    "\n",
    "import unicodedata #編碼處理\n",
    "import string\n",
    "\n",
    "#為了方便後面做Index用，建立a-z,A-Z的26*2個英文字母，加上5個特殊符號，共57個符號\n",
    "all_letters = string.ascii_letters + \" .,;'\"\n",
    "n_letters = len(all_letters)\n",
    "\n",
    "\n",
    "#將Unicode轉ASCII\n",
    "def unicodeToAscii(s):\n",
    "    return ''.join(\n",
    "        c for c in unicodedata.normalize('NFD', s)\n",
    "        if unicodedata.category(c) != 'Mn'\n",
    "        and c in all_letters\n",
    "    )\n",
    "\n",
    "\n",
    "# 構建category_lines，放置每個分類的內容(像是名字內容)\n",
    "category_lines = {} #分類內容\n",
    "all_categories = [] #分類項目（如：英文姓名、中文姓名）\n",
    "\n",
    "# 讀取文件並分行\n",
    "def readLines(filename):\n",
    "    lines = open(filename, encoding='utf-8').read().strip().split('\\n')\n",
    "    return [line for line in lines]\n",
    "\n",
    "for filename in findFiles('data/names/*.txt'):\n",
    "    category = filename.split('/')[-1].split('.')[0]\n",
    "    #18種類別\n",
    "    all_categories.append(category)\n",
    "    lines = readLines(filename) #每一個檔案裡面的內容\n",
    "    #category_lines 內容組合，類別：名字List，也就是一個類別裡面，有Ｎ個要被分類的內容\n",
    "    category_lines[category] = lines \n",
    "\n",
    "n_categories = len(all_categories) #n_categories獲得分類總數"
   ]
  },
  {
   "cell_type": "code",
   "execution_count": 2,
   "metadata": {},
   "outputs": [
    {
     "name": "stdout",
     "output_type": "stream",
     "text": [
      "tensor([[ 0.,  1.,  0.,  0.,  0.,  0.,  0.,  0.,  0.,  0.,  0.,  0.,\n",
      "          0.,  0.,  0.,  0.,  0.,  0.,  0.,  0.,  0.,  0.,  0.,  0.,\n",
      "          0.,  0.,  0.,  0.,  0.,  0.,  0.,  0.,  0.,  0.,  0.,  0.,\n",
      "          0.,  0.,  0.,  0.,  0.,  0.,  0.,  0.,  0.,  0.,  0.,  0.,\n",
      "          0.,  0.,  0.,  0.,  0.,  0.,  0.,  0.,  0.]])\n",
      "torch.Size([5, 1, 57])\n"
     ]
    }
   ],
   "source": [
    "import torch\n",
    "\n",
    "# 建立函式方便尋找all_letters的Index像是\"a\"=10000000000....\n",
    "def letterToIndex(letter):\n",
    "    return all_letters.find(letter)\n",
    "\n",
    "# 將一個字母轉成Tensor顯示\n",
    "def letterToTensor(letter):\n",
    "    tensor = torch.zeros(1, n_letters) #建立一個1*57的Tensor\n",
    "    tensor[0][letterToIndex(letter)] = 1\n",
    "    return tensor\n",
    "\n",
    "# 建立one-hot letter vectors\n",
    "def lineToTensor(line):\n",
    "    tensor = torch.zeros(len(line), 1, n_letters)\n",
    "    for li, letter in enumerate(line):\n",
    "        tensor[li][0][letterToIndex(letter)] = 1\n",
    "    return tensor\n",
    "\n",
    "print(letterToTensor('b')) #將內容轉為字母 #ex. a,b,c..\n",
    "print(lineToTensor('Jones').size()) #5為字母個數、1為維度、57為總字母"
   ]
  },
  {
   "cell_type": "code",
   "execution_count": 3,
   "metadata": {
    "collapsed": true
   },
   "outputs": [],
   "source": [
    "import torch.nn as nn\n",
    "\n",
    " \n",
    "class RNN(nn.Module):\n",
    "    def __init__(self, input_size, hidden_size, output_size):\n",
    "        super(RNN, self).__init__()\n",
    "\n",
    "        self.hidden_size = hidden_size\n",
    "\n",
    "        self.i2h = nn.Linear(input_size + hidden_size, hidden_size) #做input線性轉換\n",
    "        self.i2o = nn.Linear(input_size + hidden_size, output_size) #做output線性轉換\n",
    "        self.softmax = nn.LogSoftmax(dim=1) #透過Softmax做歸一化\n",
    "\n",
    "    def forward(self, input, hidden):\n",
    "        combined = torch.cat((input, hidden), 1) #將輸入層與隱藏層做整合\n",
    "        hidden = self.i2h(combined) #將輸入層、隱藏層 \n",
    "        output = self.i2o(combined) #將輸入層、隱藏層\n",
    "        output = self.softmax(output)#透過Softmax做歸一化\n",
    "        return output, hidden\n",
    "\n",
    "    def initHidden(self): #初始化隱藏層\n",
    "        return torch.zeros(1, self.hidden_size)\n",
    "\n",
    "n_hidden = 128\n",
    "rnn = RNN(n_letters, n_hidden, n_categories) #57個字母,隱藏層數,分類共18個語言"
   ]
  },
  {
   "cell_type": "code",
   "execution_count": 4,
   "metadata": {
    "collapsed": true
   },
   "outputs": [],
   "source": [
    "def categoryFromOutput(output): #透過topk取出比較好的結果\n",
    "    top_n, top_i = output.topk(1) #Pytorch內建topk()\n",
    "    category_i = top_i[0].item() \n",
    "    return all_categories[category_i], category_i\n",
    "\n",
    "#print(categoryFromOutput(output))"
   ]
  },
  {
   "cell_type": "code",
   "execution_count": 5,
   "metadata": {},
   "outputs": [
    {
     "name": "stdout",
     "output_type": "stream",
     "text": [
      "category = Russian / line = Zhorin\n",
      "category = French / line = Sarkozy\n",
      "category = English / line = Rolfe\n",
      "category = Korean / line = Koo\n",
      "category = Korean / line = Mo\n"
     ]
    }
   ],
   "source": [
    "import random\n",
    "\n",
    "def randomChoice(l):\n",
    "    return l[random.randint(0, len(l) - 1)] #取0~ 分類個數減1的範圍 0~17\n",
    "\n",
    "def randomTrainingExample():\n",
    "    category = randomChoice(all_categories) #隨機選擇分類\n",
    "    line = randomChoice(category_lines[category]) #取得該分類的細部資料\n",
    "    category_tensor = torch.tensor([all_categories.index(category)], dtype=torch.long)#取得整個分類的Index\n",
    "    line_tensor = lineToTensor(line) #將分類細部資料轉換one-hot vector\n",
    "    return category, line, category_tensor, line_tensor #分類名稱、分類的細部資料、分類的Index、One-hot vector的結果\n",
    "\n",
    "for i in range(5):\n",
    "    category, line, category_tensor, line_tensor = randomTrainingExample()\n",
    "    print('category =', category, '/ line =', line)"
   ]
  },
  {
   "cell_type": "code",
   "execution_count": 6,
   "metadata": {
    "collapsed": true
   },
   "outputs": [],
   "source": [
    "#衡量標準\n",
    "criterion = nn.NLLLoss() #用於多分類模型，全名Negative Log Likelihood，通常用於最後一層是softmax"
   ]
  },
  {
   "cell_type": "code",
   "execution_count": 7,
   "metadata": {
    "collapsed": true
   },
   "outputs": [],
   "source": [
    "learning_rate = 0.005\n",
    "\n",
    "def train(category_tensor, line_tensor):\n",
    "    hidden = rnn.initHidden() #初始化隱藏層\n",
    "\n",
    "    rnn.zero_grad() #初始化優化的狀態\n",
    "\n",
    "    for i in range(line_tensor.size()[0]): #取得每個細項的矩陣內容，每一個都跑一次RNN\n",
    "        output, hidden = rnn(line_tensor[i], hidden) #rnn(input[0], hidden) 輸出結果\n",
    "\n",
    "    loss = criterion(output, category_tensor) #透過NLLLoss獲得Loss\n",
    "    loss.backward() #進行反向傳播\n",
    "\n",
    "    # Add parameters' gradients to their values, multiplied by learning rate\n",
    "    for p in rnn.parameters(): #依據每一層做處理\n",
    "        p.data.add_(-learning_rate, p.grad.data)#從每一層加上學習速率\n",
    "\n",
    "    return output, loss.item() #回傳運算成果"
   ]
  },
  {
   "cell_type": "code",
   "execution_count": null,
   "metadata": {},
   "outputs": [
    {
     "name": "stdout",
     "output_type": "stream",
     "text": [
      "5000 5% (0m 5s) 2.2582 Lac / Vietnamese ✓\n",
      "10000 10% (0m 10s) 3.0083 Neil / Korean ✗ (Irish)\n"
     ]
    }
   ],
   "source": [
    "import time\n",
    "import math\n",
    "\n",
    "n_iters = 100000 #100000\n",
    "print_every = 5000 #每print_every印出\n",
    "plot_every = 1000 #每plot_every印出\n",
    "\n",
    "\n",
    "# Keep track of losses for plotting\n",
    "current_loss = 0 #初始為0\n",
    "all_losses = [] \n",
    "\n",
    "def timeSince(since): #計算花費時間\n",
    "    now = time.time()\n",
    "    s = now - since #現在時間 減掉 開始時間\n",
    "    m = math.floor(s / 60) #將秒數整理一下\n",
    "    s -= m * 60\n",
    "    return '%dm %ds' % (m, s)\n",
    "\n",
    "start = time.time()\n",
    "\n",
    "for iter in range(1, n_iters + 1): #n_iters + 1 因為從0開始算\n",
    "    category, line, category_tensor, line_tensor = randomTrainingExample() #取得隨機的資料\n",
    "    output, loss = train(category_tensor, line_tensor) #進行訓練\n",
    "    current_loss += loss #將Loss做累計\n",
    "\n",
    "    # Print iter number, loss, name and guess\n",
    "    if iter % print_every == 0: #當迴圈 除以print_every餘數為0則印出\n",
    "        guess, guess_i = categoryFromOutput(output) #取得output結果，放入categoryFromOutput判斷是否為同一個\n",
    "        correct = '✓' if guess == category else '✗ (%s)' % category\n",
    "        print('%d %d%% (%s) %.4f %s / %s %s' % (iter, iter / n_iters * 100, timeSince(start), loss, line, guess, correct))\n",
    "\n",
    "    # Add current loss avg to list of losses\n",
    "    if iter % plot_every == 0: #提供給plot_every不能比print_every多，因為plot_every要畫圖。\n",
    "        all_losses.append(current_loss / plot_every)\n",
    "        current_loss = 0"
   ]
  },
  {
   "cell_type": "code",
   "execution_count": 12,
   "metadata": {},
   "outputs": [
    {
     "name": "stdout",
     "output_type": "stream",
     "text": [
      "\n",
      "> Bill\n",
      "English\n",
      "Irish\n",
      "German\n",
      "Czech\n",
      "Scottish\n",
      "\n",
      "> Jerry\n",
      "English\n",
      "Czech\n",
      "Scottish\n",
      "French\n",
      "German\n"
     ]
    }
   ],
   "source": [
    "# 回傳輸出\n",
    "def evaluate(line_tensor):\n",
    "    hidden = rnn.initHidden()\n",
    "    for i in range(line_tensor.size()[0]):\n",
    "        output, hidden = rnn(line_tensor[i], hidden)\n",
    "    return output\n",
    "\n",
    "\n",
    "#進行數值預測\n",
    "def predict(input_line, n_predictions=5): #n_predictions設定要預測的數量\n",
    "    print('\\n> %s' % input_line) #印出名稱\n",
    "    with torch.no_grad(): #no_grad在上下文中切掉梯度\n",
    "        output = evaluate(lineToTensor(input_line))\n",
    "\n",
    "        # 獲得N個類別\n",
    "        topv, topi = output.topk(n_predictions, 1) #n_predictions為個數、維度為1\n",
    "        #topv原始值、topi索引值\n",
    "        predictions = []\n",
    "\n",
    "        for i in range(n_predictions): #取得預測結果\n",
    "            value = topv[0][i].item() #取得第i個值\n",
    "            category_index = topi[0][i].item() #取得第i個值的索引值\n",
    "            print(all_categories[category_index]) #category_index就是預測的分類結果\n",
    "            #print('(%.2f) %s' % (value, all_categories[category_index]))\n",
    "            predictions.append([value, all_categories[category_index]])\n",
    "\n",
    "predict('Bill')\n",
    "predict('Jerry')"
   ]
  },
  {
   "cell_type": "code",
   "execution_count": null,
   "metadata": {
    "collapsed": true
   },
   "outputs": [],
   "source": []
  }
 ],
 "metadata": {
  "kernelspec": {
   "display_name": "Python 3",
   "language": "python",
   "name": "python3"
  },
  "language_info": {
   "codemirror_mode": {
    "name": "ipython",
    "version": 3
   },
   "file_extension": ".py",
   "mimetype": "text/x-python",
   "name": "python",
   "nbconvert_exporter": "python",
   "pygments_lexer": "ipython3",
   "version": "3.6.3"
  }
 },
 "nbformat": 4,
 "nbformat_minor": 2
}
