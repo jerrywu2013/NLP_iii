{
 "cells": [
  {
   "cell_type": "code",
   "execution_count": 24,
   "metadata": {
    "collapsed": true
   },
   "outputs": [],
   "source": [
    "import torch\n",
    "import numpy as np"
   ]
  },
  {
   "cell_type": "code",
   "execution_count": 25,
   "metadata": {},
   "outputs": [],
   "source": [
    "X = torch.Tensor([[1,0,1,0],[1,0,1,1],[0,1,0,1]])\n",
    "y = torch.Tensor([[1],[1],[0]])"
   ]
  },
  {
   "cell_type": "code",
   "execution_count": 26,
   "metadata": {
    "collapsed": true
   },
   "outputs": [],
   "source": [
    "def sigmoid(x):\n",
    "    return 1/(1 + np.exp(-x))"
   ]
  },
  {
   "cell_type": "code",
   "execution_count": 52,
   "metadata": {
    "collapsed": true
   },
   "outputs": [],
   "source": [
    "epoch = 1000\n",
    "lr = 0.01\n",
    "inputlayer_neurons = X.shape[1]\n",
    "hiddenlayer_neurons = 3\n",
    "output_neurons = 1"
   ]
  },
  {
   "cell_type": "code",
   "execution_count": 53,
   "metadata": {
    "collapsed": true
   },
   "outputs": [],
   "source": [
    "wh = torch.randn(inputlayer_neurons, hiddenlayer_neurons).type(torch.FloatTensor)\n",
    "bh = torch.randn(1, hiddenlayer_neurons).type(torch.FloatTensor)\n",
    "wout = torch.randn(hiddenlayer_neurons, output_neurons)\n",
    "bout = torch.randn(1, output_neurons)"
   ]
  },
  {
   "cell_type": "code",
   "execution_count": 59,
   "metadata": {},
   "outputs": [
    {
     "name": "stdout",
     "output_type": "stream",
     "text": [
      "Epoch: 0 loss 0.0008214501043160757\n",
      "Epoch: 100 loss 0.0007743264238039652\n",
      "Epoch: 200 loss 0.0007310914807021618\n",
      "Epoch: 300 loss 0.0006913335528224707\n",
      "Epoch: 400 loss 0.000654695788398385\n",
      "Epoch: 500 loss 0.0006208617705851793\n",
      "Epoch: 600 loss 0.0005895583114276329\n",
      "Epoch: 700 loss 0.0005605393089354038\n",
      "Epoch: 800 loss 0.0005335932364687324\n",
      "Epoch: 900 loss 0.0005085283579925696\n",
      "實際值：\n",
      " tensor([[ 1.],\n",
      "        [ 1.],\n",
      "        [ 0.]]) \n",
      "\n",
      "預測值：\n",
      " tensor([[ 0.9916],\n",
      "        [ 0.9894],\n",
      "        [ 0.0357]]) \n",
      "\n"
     ]
    }
   ],
   "source": [
    "for i in range(epoch):\n",
    "    #Forward Propogation\n",
    "    hidden_layer_input1 = torch.mm(X, wh)\n",
    "    hidden_layer_input = hidden_layer_input1 + bh\n",
    "    hiddenlayer_activations = sigmoid(hidden_layer_input)\n",
    "    \n",
    "    output_layer_input1 = torch.mm(hiddenlayer_activations, wout)\n",
    "    output_layer_input = output_layer_input1 + bout\n",
    "    output = sigmoid(output_layer_input)\n",
    "    \n",
    "    #Backpropagation\n",
    "    E = y-output\n",
    "    ########MSE\n",
    "    numpy_E = E.numpy()\n",
    "    Loss_E = np.sum((numpy_E)**2)/len(numpy_E)\n",
    "    #print(\"Loss\",Loss_E)\n",
    "    ######\n",
    "    if i % 100 == 0:\n",
    "        print(\"Epoch: {} loss {}\".format(i, Loss_E))\n",
    "    ######\n",
    "    back_output_layer = sigmoid(output)\n",
    "    back_hidden_layer = sigmoid(hiddenlayer_activations)\n",
    "    d_output = E * back_output_layer\n",
    "    Error_at_hidden_layer = torch.mm(d_output, wout.t())\n",
    "    d_hiddenlayer = Error_at_hidden_layer * back_hidden_layer\n",
    "    wout += torch.mm(hiddenlayer_activations.t(), d_output) *lr\n",
    "    bout += d_output.sum() * lr\n",
    "    wh += torch.mm(X.t(), d_hiddenlayer) * lr\n",
    "    bh += d_output.sum() * lr\n",
    "    \n",
    "    \n",
    "\n",
    "print('實際值：\\n', y, '\\n')\n",
    "print('預測值：\\n', output, '\\n')"
   ]
  },
  {
   "cell_type": "code",
   "execution_count": null,
   "metadata": {
    "collapsed": true
   },
   "outputs": [],
   "source": [
    "Loss_E = np.sum((x)**2)/len(x)"
   ]
  },
  {
   "cell_type": "code",
   "execution_count": null,
   "metadata": {},
   "outputs": [],
   "source": []
  },
  {
   "cell_type": "code",
   "execution_count": null,
   "metadata": {
    "collapsed": true
   },
   "outputs": [],
   "source": []
  },
  {
   "cell_type": "code",
   "execution_count": null,
   "metadata": {
    "collapsed": true
   },
   "outputs": [],
   "source": []
  },
  {
   "cell_type": "code",
   "execution_count": null,
   "metadata": {
    "collapsed": true
   },
   "outputs": [],
   "source": []
  }
 ],
 "metadata": {
  "kernelspec": {
   "display_name": "Python 3",
   "language": "python",
   "name": "python3"
  },
  "language_info": {
   "codemirror_mode": {
    "name": "ipython",
    "version": 3
   },
   "file_extension": ".py",
   "mimetype": "text/x-python",
   "name": "python",
   "nbconvert_exporter": "python",
   "pygments_lexer": "ipython3",
   "version": "3.6.3"
  }
 },
 "nbformat": 4,
 "nbformat_minor": 2
}
